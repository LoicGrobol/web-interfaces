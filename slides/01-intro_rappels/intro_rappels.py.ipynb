{
 "cells": [
  {
   "cell_type": "markdown",
   "id": "a2969a22",
   "metadata": {
    "slideshow": {
     "slide_type": "slide"
    }
   },
   "source": [
    "<!-- LTeX: language=fr -->\n",
    "\n",
    "Cours 1 : Crash course Python\n",
    "=============================\n",
    "\n",
    "**Loïc Grobol** [\\<lgrobol@parisnanterre.fr\\>](mailto:lgrobol@parisnanterre.fr)\n"
   ]
  },
  {
   "cell_type": "markdown",
   "id": "8cf4a2a6",
   "metadata": {
    "slideshow": {
     "slide_type": "slide"
    }
   },
   "source": [
    "## Opérateurs mathématiques et fonctions\n",
    "\n",
    "### Opérateurs\n",
    "\n",
    "- `+` addition\n",
    "- `-` soustraction\n",
    "- `*` multiplication\n",
    "- `/` division\n",
    "- `//` la division entière\n",
    "- `%` modulo (reste de la division)\n",
    "- `**` puissance\n",
    "\n",
    "- L'ordre des opérations est l'ordre classique en mathématiques (puissance passe avant les\n",
    "  opérations).\n",
    "- On peut utiliser des parenthèses pour définir des priorités.\n",
    "- Lire [la doc](https://docs.python.org/3/library/stdtypes.html#numeric-types-int-float-complex)\n"
   ]
  },
  {
   "cell_type": "code",
   "execution_count": null,
   "id": "6d1560eb",
   "metadata": {
    "slideshow": {
     "slide_type": "subslide"
    }
   },
   "outputs": [],
   "source": [
    "2707+3*2"
   ]
  },
  {
   "cell_type": "code",
   "execution_count": null,
   "id": "c8e708de",
   "metadata": {
    "slideshow": {
     "slide_type": "fragment"
    }
   },
   "outputs": [],
   "source": [
    "(2707+3)*2"
   ]
  },
  {
   "cell_type": "markdown",
   "id": "ed451175",
   "metadata": {
    "slideshow": {
     "slide_type": "subslide"
    }
   },
   "source": [
    "### Les fonctions\n",
    "\n",
    "Vous connaissez les fonctions"
   ]
  },
  {
   "cell_type": "code",
   "execution_count": null,
   "id": "1a25dbec",
   "metadata": {
    "slideshow": {
     "slide_type": "fragment"
    }
   },
   "outputs": [],
   "source": [
    "print(2713)"
   ]
  },
  {
   "cell_type": "markdown",
   "id": "182182a2",
   "metadata": {
    "slideshow": {
     "slide_type": "fragment"
    }
   },
   "source": [
    "Ici on a fait **un appel** de la fonction `print` avec comme **argument** le nombre `2713`."
   ]
  },
  {
   "cell_type": "markdown",
   "id": "8eb7dcf2",
   "metadata": {
    "slideshow": {
     "slide_type": "subslide"
    }
   },
   "source": [
    "Il y a plein de fonctions déjà définies"
   ]
  },
  {
   "cell_type": "code",
   "execution_count": null,
   "id": "f0012fd5",
   "metadata": {
    "slideshow": {
     "slide_type": "fragment"
    }
   },
   "outputs": [],
   "source": [
    "len(\"abcde\")"
   ]
  },
  {
   "cell_type": "code",
   "execution_count": null,
   "id": "fe420c36",
   "metadata": {
    "slideshow": {
     "slide_type": "fragment"
    }
   },
   "outputs": [],
   "source": [
    "bool(5)"
   ]
  },
  {
   "cell_type": "code",
   "execution_count": null,
   "id": "04675a66",
   "metadata": {
    "slideshow": {
     "slide_type": "fragment"
    }
   },
   "outputs": [],
   "source": [
    "abs(-12)"
   ]
  },
  {
   "cell_type": "markdown",
   "id": "08a9d1ef",
   "metadata": {
    "slideshow": {
     "slide_type": "fragment"
    }
   },
   "source": [
    "…"
   ]
  },
  {
   "cell_type": "markdown",
   "id": "ae4f8274",
   "metadata": {
    "slideshow": {
     "slide_type": "subslide"
    }
   },
   "source": [
    "Et on peut en définir des nouvelles"
   ]
  },
  {
   "cell_type": "code",
   "execution_count": null,
   "id": "de5cca3a",
   "metadata": {
    "slideshow": {
     "slide_type": "fragment"
    }
   },
   "outputs": [],
   "source": [
    "def ma_super_fonction(un_argument):\n",
    "    print(un_argument)\n",
    "    print(un_argument)"
   ]
  },
  {
   "cell_type": "code",
   "execution_count": null,
   "id": "6e8eab96",
   "metadata": {
    "slideshow": {
     "slide_type": "fragment"
    }
   },
   "outputs": [],
   "source": [
    "ma_super_fonction(15)"
   ]
  },
  {
   "cell_type": "markdown",
   "id": "ca58bd6b",
   "metadata": {
    "slideshow": {
     "slide_type": "subslide"
    }
   },
   "source": [
    "Si on veut que la fonction donne un résultat, comme `abs` par exemple, on le fait avec `return`"
   ]
  },
  {
   "cell_type": "code",
   "execution_count": null,
   "id": "e1094399",
   "metadata": {
    "slideshow": {
     "slide_type": "fragment"
    }
   },
   "outputs": [],
   "source": [
    "def ma_nouvelle_fonction(nombre):\n",
    "    return nombre + 2"
   ]
  },
  {
   "cell_type": "code",
   "execution_count": null,
   "id": "c6ec3105",
   "metadata": {
    "slideshow": {
     "slide_type": "fragment"
    }
   },
   "outputs": [],
   "source": [
    "ma_nouvelle_fonction(2715)"
   ]
  },
  {
   "cell_type": "markdown",
   "id": "b5073e2b",
   "metadata": {
    "slideshow": {
     "slide_type": "subslide"
    }
   },
   "source": [
    "**Attention** : *afficher* un résultat et *renvoyer* un résultat ce n'est pas la même chose"
   ]
  },
  {
   "cell_type": "code",
   "execution_count": null,
   "id": "e1b7603e",
   "metadata": {
    "slideshow": {
     "slide_type": "fragment"
    }
   },
   "outputs": [],
   "source": [
    "def mon_incroyable_affichage(nombre):\n",
    "    print(nombre + 3)\n",
    "\n",
    "def mon_incroyable_retour(nombre):\n",
    "    return nombre + 2"
   ]
  },
  {
   "cell_type": "code",
   "execution_count": null,
   "id": "2b847f50",
   "metadata": {
    "slideshow": {
     "slide_type": "fragment"
    }
   },
   "outputs": [],
   "source": [
    "mon_incroyable_retour(27) "
   ]
  },
  {
   "cell_type": "code",
   "execution_count": null,
   "id": "a9e8fa05",
   "metadata": {
    "slideshow": {
     "slide_type": "subslide"
    }
   },
   "outputs": [],
   "source": [
    "mon_incroyable_affichage(27)"
   ]
  },
  {
   "cell_type": "code",
   "execution_count": null,
   "id": "df276235",
   "metadata": {
    "slideshow": {
     "slide_type": "fragment"
    }
   },
   "outputs": [],
   "source": [
    "mon_incroyable_retour(27) + 3"
   ]
  },
  {
   "cell_type": "code",
   "execution_count": null,
   "id": "1950192e",
   "metadata": {
    "slideshow": {
     "slide_type": "fragment"
    },
    "tags": [
     "raises-exception"
    ]
   },
   "outputs": [],
   "source": [
    "mon_incroyable_affichage(27) + 3"
   ]
  },
  {
   "cell_type": "markdown",
   "id": "39c42f27",
   "metadata": {
    "slideshow": {
     "slide_type": "subslide"
    }
   },
   "source": [
    "### ✍️ Exos 1 ✍️\n",
    "\n",
    "C'est à vous de jouer !\n",
    "\n",
    "Vous avez une fonction à compléter (ça vous apprendra à écrire des fonctions 😤).  \n",
    "\n",
    "À chaque fois j'essaierai d'ajouter une cellule avec des tests qui vous permettront de valider votre\n",
    "code. Écrivez votre code dans la cellule de la fonction (et enlevez `pass`), exécutez cette cellule\n",
    "(bouton 'Run' ou ctrl + Enter) puis exécutez la cellule de test.\n",
    "\n",
    "L'objectif est que vous soyez autonome pour valider ces exos (et accessoirement de vous familiariser\n",
    "avec les tests)."
   ]
  },
  {
   "cell_type": "code",
   "execution_count": null,
   "id": "2b96db32",
   "metadata": {
    "slideshow": {
     "slide_type": "subslide"
    }
   },
   "outputs": [],
   "source": [
    "def square(num):\n",
    "    \"\"\"Renvoie le nombre donné en argument au carré.\"\"\"\n",
    "    pass # Votre code ici"
   ]
  },
  {
   "cell_type": "code",
   "execution_count": null,
   "id": "a3f163f1",
   "metadata": {
    "slideshow": {
     "slide_type": "-"
    }
   },
   "outputs": [],
   "source": [
    "assert square(3) == 9\n",
    "assert square(0) == 0\n",
    "assert square(-2) == 4"
   ]
  },
  {
   "cell_type": "markdown",
   "id": "def6792f",
   "metadata": {
    "slideshow": {
     "slide_type": "slide"
    }
   },
   "source": [
    "## Opérateurs de comparaison\n",
    "\n",
    "- `<` inférieur  / `<=` inférieur ou égal\n",
    "- `>` supérieur  / `>=` supérieur ou égal\n",
    "- `==` égal / `!=` différent\n",
    "- `is` identité (pour les objets surtout)/ `is not` non identité\n",
    "\n",
    "Lire [la doc](https://docs.python.org/3/library/stdtypes.html#comparisons)."
   ]
  },
  {
   "cell_type": "markdown",
   "id": "e021ced7",
   "metadata": {
    "slideshow": {
     "slide_type": "subslide"
    }
   },
   "source": [
    "### ✍️ Exo 2 ✍️"
   ]
  },
  {
   "cell_type": "code",
   "execution_count": null,
   "id": "85957b8b",
   "metadata": {
    "slideshow": {
     "slide_type": "-"
    }
   },
   "outputs": [],
   "source": [
    "def on_fait_la_taille(moi, toi):\n",
    "    \"\"\"Vrai ssi `moi` est plus grand que `toi`\"\"\"\n",
    "    pass # Votre code ici"
   ]
  },
  {
   "cell_type": "code",
   "execution_count": null,
   "id": "f611dae5",
   "metadata": {
    "slideshow": {
     "slide_type": "-"
    }
   },
   "outputs": [],
   "source": [
    "assert on_fait_la_taille(100, 80) == \"plus grand\"\n",
    "assert on_fait_la_taille(100, 120) == \"plus petit\"\n",
    "assert on_fait_la_taille(100, 100) == \"pareil\""
   ]
  },
  {
   "cell_type": "markdown",
   "id": "db679332",
   "metadata": {
    "slideshow": {
     "slide_type": "subslide"
    }
   },
   "source": [
    "### Identité et égalité\n",
    "\n",
    "`a == b` est vrai si `a` et `b` sont égaux, `a is b` si c'est le même objet."
   ]
  },
  {
   "cell_type": "code",
   "execution_count": null,
   "id": "27923b15",
   "metadata": {
    "slideshow": {
     "slide_type": "-"
    }
   },
   "outputs": [],
   "source": [
    "display([\"spam\"] == [\"spam\"])\n",
    "display([\"spam\"] is [\"spam\"])"
   ]
  },
  {
   "cell_type": "markdown",
   "id": "2c5d265f",
   "metadata": {
    "slideshow": {
     "slide_type": "fragment"
    }
   },
   "source": [
    "Il y a quelques pièges, mais on y reviendra"
   ]
  },
  {
   "cell_type": "markdown",
   "id": "d333b72c",
   "metadata": {
    "slideshow": {
     "slide_type": "slide"
    }
   },
   "source": [
    "## Les variables\n",
    "\n",
    "- L'affectation des variables se fait à l'aide du symbole `=`  \n",
    "- Si la variable est placée à droite du symbole `=`, sa *valeur* est affectée à la variable placée à\n",
    "  gauche.\n",
    "- Les noms de variable sont composés de caractères alphabétiques (min ou maj), des chiffres et de\n",
    "  l'underscore.\n",
    "- Les noms de variable sont choisis par le programmeur, ils doivent être le plus clair possible. Il\n",
    "  est conseillé de suivre la [PEP 8](https://www.python.org/dev/peps/pep-0008/)."
   ]
  },
  {
   "cell_type": "code",
   "execution_count": null,
   "id": "22ba23b4",
   "metadata": {
    "slideshow": {
     "slide_type": "fragment"
    }
   },
   "outputs": [],
   "source": [
    "spam = 3 + 2\n",
    "print(spam)\n",
    "\n",
    "eggs = spam\n",
    "print(eggs)"
   ]
  },
  {
   "cell_type": "code",
   "execution_count": null,
   "id": "27939991",
   "metadata": {
    "slideshow": {
     "slide_type": "fragment"
    }
   },
   "outputs": [],
   "source": [
    "je-ne-suis-pas-une-variable = 2 "
   ]
  },
  {
   "cell_type": "code",
   "execution_count": null,
   "id": "86582d1b",
   "metadata": {
    "slideshow": {
     "slide_type": "fragment"
    }
   },
   "outputs": [],
   "source": [
    "3_moi_non_plus = 2 + 3"
   ]
  },
  {
   "cell_type": "markdown",
   "id": "5a6d12ef",
   "metadata": {
    "slideshow": {
     "slide_type": "subslide"
    }
   },
   "source": [
    "- À part ça, seuls les mots réservés sont interdits."
   ]
  },
  {
   "cell_type": "code",
   "execution_count": null,
   "id": "59cb5073",
   "metadata": {
    "slideshow": {
     "slide_type": "fragment"
    }
   },
   "outputs": [],
   "source": [
    "import keyword\n",
    "print(keyword.kwlist)"
   ]
  },
  {
   "cell_type": "markdown",
   "id": "e96aa089",
   "metadata": {
    "slideshow": {
     "slide_type": "subslide"
    }
   },
   "source": [
    "On *peut* faire des trucs exotiques (voir la [doc](https://docs.python.org/3/reference/lexical_analysis.html#identifiers))"
   ]
  },
  {
   "cell_type": "code",
   "execution_count": null,
   "id": "d180411c",
   "metadata": {
    "slideshow": {
     "slide_type": "fragment"
    }
   },
   "outputs": [],
   "source": [
    "z̷̫̻̘̞̫͓̩̮͐̄̀̇̐̅̈́̂̊͂̚͜͝͝ā̷̧̛̻͎͙̣̻̫̹̙̠̖̬̏̈́͒͋̃́̄̿͋͛̊l̶̢̡̹̠̜͉̗̆̎̐̀͑͗̒̒́́̅̿͒͜g̶̢̡̼̭̭̫̽̄̓̌͗͠͝ó̴͇̯͚̮̟̻͕̭͂͑̅͐̿͂͗͌͌̌̓ͅ = \"HE COMES\"\n",
    "print(z̷̫̻̘̞̫͓̩̮͐̄̀̇̐̅̈́̂̊͂̚͜͝͝ā̷̧̛̻͎͙̣̻̫̹̙̠̖̬̏̈́͒͋̃́̄̿͋͛̊l̶̢̡̹̠̜͉̗̆̎̐̀͑͗̒̒́́̅̿͒͜g̶̢̡̼̭̭̫̽̄̓̌͗͠͝ó̴͇̯͚̮̟̻͕̭͂͑̅͐̿͂͗͌͌̌̓ͅ)"
   ]
  },
  {
   "cell_type": "markdown",
   "id": "6d657f0e",
   "metadata": {
    "slideshow": {
     "slide_type": "fragment"
    }
   },
   "source": [
    "MAIS ON NE LE FAIT PAS"
   ]
  },
  {
   "cell_type": "markdown",
   "id": "ae8e18b6",
   "metadata": {
    "slideshow": {
     "slide_type": "slide"
    }
   },
   "source": [
    "# Les types\n",
    "\n",
    "- Python est un langage à typage *dynamique* fort : le type d'une variable est déterminé par\n",
    "  l'interpréteur.\n",
    "- Python est un langage à typage dynamique *fort* : pas de conversion implicite, certaines actions\n",
    "  sont interdites."
   ]
  },
  {
   "cell_type": "code",
   "execution_count": null,
   "id": "874bf99a",
   "metadata": {
    "slideshow": {
     "slide_type": "fragment"
    }
   },
   "outputs": [],
   "source": [
    "\"Hello\" + 1"
   ]
  },
  {
   "cell_type": "markdown",
   "id": "ca77579e",
   "metadata": {
    "slideshow": {
     "slide_type": "subslide"
    }
   },
   "source": [
    "- La fonction `type()` retourne le type de la variable donnée en argument."
   ]
  },
  {
   "cell_type": "code",
   "execution_count": null,
   "id": "3dc8191c",
   "metadata": {
    "slideshow": {
     "slide_type": "-"
    }
   },
   "outputs": [],
   "source": [
    "type(\"Hello\")\n"
   ]
  },
  {
   "cell_type": "markdown",
   "id": "4c19e278",
   "metadata": {
    "slideshow": {
     "slide_type": "subslide"
    }
   },
   "source": [
    "- La fonction `isinstance(obj, class)` vous dit si l'objet donné en argument est de la classe\n",
    "  'class' ou non"
   ]
  },
  {
   "cell_type": "code",
   "execution_count": null,
   "id": "4daf547d",
   "metadata": {
    "slideshow": {
     "slide_type": "-"
    }
   },
   "outputs": [],
   "source": [
    "isinstance('hello', int)"
   ]
  },
  {
   "cell_type": "markdown",
   "id": "3801f17f",
   "metadata": {
    "slideshow": {
     "slide_type": "subslide"
    }
   },
   "source": [
    "### ✍️ Exo 3 ✍️\n",
    "\n",
    "Vous reprenez votre fonction `square` de façon à afficher \"Erreur de type\" quand l'argument n'est\n",
    "pas de type `int`"
   ]
  },
  {
   "cell_type": "code",
   "execution_count": null,
   "id": "be39dbe0",
   "metadata": {
    "slideshow": {
     "slide_type": "-"
    }
   },
   "outputs": [],
   "source": [
    "def square(num):\n",
    "    \"\"\"Renvoie le nombre donné en argument au carré.\"\"\"\n",
    "    pass # Votre code ici"
   ]
  },
  {
   "cell_type": "code",
   "execution_count": null,
   "id": "20172da6",
   "metadata": {
    "slideshow": {
     "slide_type": "-"
    }
   },
   "outputs": [],
   "source": [
    "assert square(3) == 9\n",
    "assert square(0) == 0\n",
    "assert square(-2) == 4\n",
    "square(\"test\")"
   ]
  },
  {
   "cell_type": "markdown",
   "id": "23a69ba4",
   "metadata": {
    "slideshow": {
     "slide_type": "slide"
    }
   },
   "source": [
    "## Les chaînes de caractères"
   ]
  },
  {
   "cell_type": "markdown",
   "id": "994fbd73",
   "metadata": {
    "slideshow": {
     "slide_type": "-"
    }
   },
   "source": [
    "- Les chaînes de caractères sont entourées de quotes simples `'` ou doubles `\"`\n",
    "- Si votre mot contient une apostrophe, entourez-le de guillemets `\"`"
   ]
  },
  {
   "cell_type": "code",
   "execution_count": null,
   "id": "05c91c97",
   "metadata": {
    "slideshow": {
     "slide_type": "fragment"
    }
   },
   "outputs": [],
   "source": [
    "'Ça donne une erreur t'as vu'"
   ]
  },
  {
   "cell_type": "code",
   "execution_count": null,
   "id": "ff2c02c7",
   "metadata": {
    "slideshow": {
     "slide_type": "fragment"
    }
   },
   "outputs": [],
   "source": [
    "\"Ça donne une erreur t'as vu\""
   ]
  },
  {
   "cell_type": "markdown",
   "id": "1d393ea2",
   "metadata": {
    "slideshow": {
     "slide_type": "subslide"
    }
   },
   "source": [
    "On peut aussi utiliser trois quotes pour avoir une chaîne de caractères sur plusieurs lignes"
   ]
  },
  {
   "cell_type": "code",
   "execution_count": null,
   "id": "b7a8a237",
   "metadata": {
    "slideshow": {
     "slide_type": "-"
    }
   },
   "outputs": [],
   "source": [
    "\"\"\"Ceci est une\n",
    "chaîne de caractères\n",
    "sur plusieurs lignes\n",
    "Je peux y mettre des simples ' et double \" quotes sans problème !\n",
    "\"\"\""
   ]
  },
  {
   "cell_type": "markdown",
   "id": "0435a6a8",
   "metadata": {
    "slideshow": {
     "slide_type": "subslide"
    }
   },
   "source": [
    "Les chaînes sont des **séquences de caractères**, on peut leur appliquer les opérations suivantes\n",
    "propres à la catégorie d'objets *séquences* :\n",
    "\n",
    "(Vous connaissez d'autres *séquences* au fait ?)\n",
    "\n",
    "- longueur, minimum, maximum"
   ]
  },
  {
   "cell_type": "code",
   "execution_count": null,
   "id": "4bd17a56",
   "metadata": {
    "slideshow": {
     "slide_type": "-"
    }
   },
   "outputs": [],
   "source": [
    "spam = \"bonjour\"\n",
    "print(len(spam))\n",
    "print(max(spam))"
   ]
  },
  {
   "cell_type": "markdown",
   "id": "df51b9fe",
   "metadata": {
    "slideshow": {
     "slide_type": "subslide"
    }
   },
   "source": [
    "- *index*\n",
    "  - Les indices commencent à `0` !"
   ]
  },
  {
   "cell_type": "code",
   "execution_count": null,
   "id": "6535b5a5",
   "metadata": {
    "slideshow": {
     "slide_type": "-"
    }
   },
   "outputs": [],
   "source": [
    "spam = \"bonjour\"\n",
    "print(spam[2])\n",
    "print(spam[-1])"
   ]
  },
  {
   "cell_type": "markdown",
   "id": "6ffcf783",
   "metadata": {
    "slideshow": {
     "slide_type": "subslide"
    }
   },
   "source": [
    "- *slice*\n",
    "  - `spam[i:j]`, c'est `spam[i]`, `spam[i+1]`, …, `spam[j-1]`"
   ]
  },
  {
   "cell_type": "code",
   "execution_count": null,
   "id": "883836f5",
   "metadata": {
    "slideshow": {
     "slide_type": "-"
    }
   },
   "outputs": [],
   "source": [
    "print(spam[0:3]) # 3 premiers éléments\n",
    "print(spam[-3:]) # 3 derniers éléments"
   ]
  },
  {
   "cell_type": "markdown",
   "id": "81aaa7ca",
   "metadata": {
    "slideshow": {
     "slide_type": "subslide"
    }
   },
   "source": [
    "- *appartenance*"
   ]
  },
  {
   "cell_type": "code",
   "execution_count": null,
   "id": "538c6662",
   "metadata": {
    "slideshow": {
     "slide_type": "-"
    }
   },
   "outputs": [],
   "source": [
    "if 'u' in spam:\n",
    "    print(\"Il y a un u dans {}\".format(spam))"
   ]
  },
  {
   "cell_type": "markdown",
   "id": "657f7a75",
   "metadata": {
    "slideshow": {
     "slide_type": "subslide"
    }
   },
   "source": [
    "Les chaînes ont aussi des fonctions qui leur sont propres\n",
    "\n",
    "Voir [la liste complète dans la\n",
    "doc](https://docs.python.org/3/library/stdtypes.html#string-methods)\n",
    "\n",
    "- `lower()` transforme la chaine en minuscules\n",
    "- `upper()` transforme la chaine en majuscules\n",
    "- `replace(old, new)` remplace les occurrences de `old` par `new`\n",
    "- `strip()` appelé sans arguments supprime le ou les espaces en tête et en fin de chaîne  \n",
    "- `rstrip()` fait la même chose en fin de chaîne uniquement\n",
    "- `lstrip()` idem en début de chaîne"
   ]
  },
  {
   "cell_type": "markdown",
   "id": "6e1bd3a1",
   "metadata": {
    "slideshow": {
     "slide_type": "subslide"
    }
   },
   "source": [
    "- `split(sep=None)` découpe une chaîne en fonction de `sep` et renvoie une liste. Si `sep` n'est pas\n",
    "  donné, coupe sur tous les caractères d'espace\n",
    "- `join(iterable)` est l'inverse de `split`, il permet de joindre les éléments d'un *itérable* pour\n",
    "  former une seule chaîne de caractères\n",
    "  [`format()`](https://docs.python.org/3/library/string.html#formatstrings) pour effectuer\n",
    "  l'[interpolation de chaîne](https://en.wikipedia.org/wiki/String_interpolation)"
   ]
  },
  {
   "cell_type": "code",
   "execution_count": null,
   "id": "982c5223",
   "metadata": {
    "slideshow": {
     "slide_type": "-"
    }
   },
   "outputs": [],
   "source": [
    "words = \"bonjour ça va ?\".split(' ')\n",
    "\"-\".join(words)"
   ]
  },
  {
   "cell_type": "markdown",
   "id": "45bd1b41",
   "metadata": {
    "slideshow": {
     "slide_type": "slide"
    }
   },
   "source": [
    "### Formatage de chaînes\n",
    "\n",
    "> There should be one — and preferably only one — obvious way to do it.  ([PEP 20 : *Zen of\n",
    "> Python*](https://www.python.org/dev/peps/pep-0020/))\n",
    "\n",
    "Sauf que :\n",
    "\n",
    "- Concaténation avec `+` [comme n'importe quelle\n",
    "  séquence](https://docs.python.org/3/library/stdtypes.html#common-sequence-operations) **à éviter**\n",
    "- [f-string](https://docs.python.org/3/library/string.html#formatstrings)\n",
    "- Interpolation avec [`format()`](https://docs.python.org/3/library/functions.html#format)\n",
    "- Et encore d'autres dont on ne parlera pas."
   ]
  },
  {
   "cell_type": "code",
   "execution_count": null,
   "id": "6b3eb06c",
   "metadata": {
    "slideshow": {
     "slide_type": "subslide"
    }
   },
   "outputs": [],
   "source": [
    "name = \"Morgan\"\n",
    "coffee_price = 0.6\n",
    "\n",
    "print(\"Tiens salut \" + name + \". T'aurais pas \" + str(coffee_price*2) + \" euros pour 2 cafés ?\")\n",
    "\n",
    "print(f\"Tiens salut {name}. T'aurais pas {coffee_price*2} euros pour 2 cafés ?\")\n",
    "\n",
    "print(\"Tiens salut {}. T'aurais pas {} euros pour 2 cafés ?\".format(name, coffee_price*2))"
   ]
  },
  {
   "cell_type": "markdown",
   "id": "19c919a4",
   "metadata": {},
   "source": [
    "**Si possible utiliser des *f-strings*** (c'est presque toujours possible)."
   ]
  },
  {
   "cell_type": "markdown",
   "id": "153f991c",
   "metadata": {
    "slideshow": {
     "slide_type": "subslide"
    }
   },
   "source": [
    "On évite de faire ça avec `+` parce que c'est moins lisible et que c'est **lent**. De fait on crée\n",
    "une chaîne intermédiaire à chaque étape."
   ]
  },
  {
   "cell_type": "code",
   "execution_count": null,
   "id": "eb060c39",
   "metadata": {
    "slideshow": {
     "slide_type": "fragment"
    }
   },
   "outputs": [],
   "source": [
    "s1 = \"Tiens salut \" + name\n",
    "s2 = s1 + \". T'aurais pas \"\n",
    "s3 = s2 + str(coffee_price*2)\n",
    "s4 = s3 + \" euros pour 2 cafés ?\""
   ]
  },
  {
   "cell_type": "markdown",
   "id": "620c29cc",
   "metadata": {
    "slideshow": {
     "slide_type": "fragment"
    }
   },
   "source": [
    "Sur l'exemple ci-dessus ça va, mais on se retrouve vite à additionner des centaines de chaînes et\n",
    "c'est la galère."
   ]
  },
  {
   "cell_type": "markdown",
   "id": "ab89f1a8",
   "metadata": {
    "slideshow": {
     "slide_type": "subslide"
    }
   },
   "source": [
    "Pour concaténer beaucoup de chaînes il vaut mieux utiliser `join`"
   ]
  },
  {
   "cell_type": "code",
   "execution_count": null,
   "id": "237a639f",
   "metadata": {
    "slideshow": {
     "slide_type": "fragment"
    }
   },
   "outputs": [],
   "source": [
    "print(\" 👏 \".join([\"On\", \"ne\", \"concatène\", \"pas\", \"des\", \"chaînes\", \"de\", \"caractères\", \"avec\", \"+\"]))"
   ]
  },
  {
   "cell_type": "markdown",
   "id": "dc583afb",
   "metadata": {
    "slideshow": {
     "slide_type": "subslide"
    }
   },
   "source": [
    "Attention aussi à la concaténation implicite"
   ]
  },
  {
   "cell_type": "code",
   "execution_count": null,
   "id": "0f61c606",
   "metadata": {
    "slideshow": {
     "slide_type": "-"
    }
   },
   "outputs": [],
   "source": [
    "spam = (\"Hello, \" \"there\")\n",
    "ham = (\"General \", \"Kenobi\")\n",
    "print(spam)\n",
    "print(ham)"
   ]
  },
  {
   "cell_type": "markdown",
   "id": "deaf50a4",
   "metadata": {
    "slideshow": {
     "slide_type": "subslide"
    }
   },
   "source": [
    "### ✍️ Exo 4 ✍️"
   ]
  },
  {
   "cell_type": "code",
   "execution_count": null,
   "id": "ddec826e",
   "metadata": {
    "slideshow": {
     "slide_type": "-"
    }
   },
   "outputs": [],
   "source": [
    "def say_hello(firstname, lastname):\n",
    "    # avec des f-string svp\n",
    "    # votre code ici\n",
    "    pass"
   ]
  },
  {
   "cell_type": "code",
   "execution_count": null,
   "id": "b273110d",
   "metadata": {
    "slideshow": {
     "slide_type": "-"
    }
   },
   "outputs": [],
   "source": [
    "assert say_hello(\"Lucky\", \"Luke\") == \"Hello Lucky Luke !\""
   ]
  },
  {
   "cell_type": "markdown",
   "id": "13ea7963",
   "metadata": {
    "slideshow": {
     "slide_type": "subslide"
    }
   },
   "source": [
    "Un objet de type `str` (string, chaîne de caractères quoi) est *immutable*, on ne peut pas modifier\n",
    "sa valeur."
   ]
  },
  {
   "cell_type": "code",
   "execution_count": null,
   "id": "b3d287ec",
   "metadata": {
    "slideshow": {
     "slide_type": "-"
    }
   },
   "outputs": [],
   "source": [
    "chaine = \"pithon\"\n",
    "chaine[1] = 'y'"
   ]
  },
  {
   "cell_type": "markdown",
   "id": "c355c4f9",
   "metadata": {
    "slideshow": {
     "slide_type": "slide"
    }
   },
   "source": [
    "## Les structures de données\n"
   ]
  },
  {
   "cell_type": "markdown",
   "id": "ee233bf9",
   "metadata": {
    "slideshow": {
     "slide_type": "slide"
    }
   },
   "source": [
    "### Les listes"
   ]
  },
  {
   "cell_type": "markdown",
   "id": "d325fad8",
   "metadata": {
    "slideshow": {
     "slide_type": "-"
    }
   },
   "source": [
    "- Les listes sont des *séquences* (comme `str`, `tuple`, `list`)\n",
    "- Les *séquences* sont des structures de données indicées qui peuvent contenir des éléments de\n",
    "  différents types\n",
    "- Les *séquences* sont des *itérables*, les listes aussi donc\n",
    "- Les éléments d'une liste peuvent être modifiés (*mutable*)\n",
    "- On accède à un élément par son indice (de 0 à n-1, n étant le nombre d'éléments)"
   ]
  },
  {
   "cell_type": "markdown",
   "id": "8e74de6f",
   "metadata": {
    "slideshow": {
     "slide_type": "subslide"
    }
   },
   "source": [
    "Une liste vide peut se déclarer de deux façons"
   ]
  },
  {
   "cell_type": "code",
   "execution_count": null,
   "id": "60e34b5d",
   "metadata": {},
   "outputs": [],
   "source": [
    "stack = []\n",
    "stack = list()"
   ]
  },
  {
   "cell_type": "markdown",
   "id": "91eea520",
   "metadata": {
    "slideshow": {
     "slide_type": "subslide"
    }
   },
   "source": [
    "Les listes, elles, sont *mutables*"
   ]
  },
  {
   "cell_type": "code",
   "execution_count": null,
   "id": "15e12d70",
   "metadata": {
    "slideshow": {
     "slide_type": "fragment"
    }
   },
   "outputs": [],
   "source": [
    "stack = list(\"Pithon\")\n",
    "stack[1] = 'y'\n",
    "stack"
   ]
  },
  {
   "cell_type": "markdown",
   "id": "708c30e4",
   "metadata": {
    "slideshow": {
     "slide_type": "fragment"
    }
   },
   "source": [
    "C'est même le prototype d'une séquence mutable, elles servent à tout, partout, en Python."
   ]
  },
  {
   "cell_type": "markdown",
   "id": "7b84de83",
   "metadata": {
    "slideshow": {
     "slide_type": "subslide"
    }
   },
   "source": [
    "### ✍️ Exo 5 ✍️"
   ]
  },
  {
   "cell_type": "code",
   "execution_count": null,
   "id": "0a300449",
   "metadata": {
    "slideshow": {
     "slide_type": "-"
    }
   },
   "outputs": [],
   "source": [
    "def change_char(s, idx):\n",
    "    \"\"\"In the given string, change the char at given index for 'z' and return the modified str\n",
    "    ex: change(\"maison\", 2) -> mazson\n",
    "    \"\"\"\n",
    "    pass # votre code ici"
   ]
  },
  {
   "cell_type": "code",
   "execution_count": null,
   "id": "f2218f47",
   "metadata": {
    "slideshow": {
     "slide_type": "-"
    }
   },
   "outputs": [],
   "source": [
    "assert isinstance(change_char(\"maison\", 3), str)\n",
    "assert change_char(\"maison\", 3) == \"maizon\"\n",
    "assert change_char(\"maison\", 0) == \"zaison\""
   ]
  },
  {
   "cell_type": "markdown",
   "id": "63a1fa90",
   "metadata": {
    "slideshow": {
     "slide_type": "slide"
    }
   },
   "source": [
    "### Les dictionnaires\n",
    "\n",
    "- Un dictionnaire est une structure de données associative de type 'clé' → 'valeur'\n",
    "- Les données ne sont pas ordonnées comme dans les listes\n",
    "- On accède à une valeur par sa clé\n",
    "- Les clés sont uniques : on ne peut pas associer deux valeurs à une même clé\n",
    "- `keys()` renvoie la liste des clés, `values()` la liste des valeurs"
   ]
  },
  {
   "cell_type": "code",
   "execution_count": null,
   "id": "ec174564",
   "metadata": {
    "slideshow": {
     "slide_type": "subslide"
    }
   },
   "outputs": [],
   "source": [
    "couleurs = {'a':'noir', 'e':'blanc', 'i':'rouge', 'u':'vert', 'o':'bleu'}\n",
    "couleurs['i'] = \"pourpre\"\n",
    "couleurs"
   ]
  },
  {
   "cell_type": "code",
   "execution_count": null,
   "id": "1753e556",
   "metadata": {
    "slideshow": {
     "slide_type": "-"
    }
   },
   "outputs": [],
   "source": [
    "couleurs.keys()"
   ]
  },
  {
   "cell_type": "code",
   "execution_count": null,
   "id": "3867064b",
   "metadata": {
    "slideshow": {
     "slide_type": "-"
    }
   },
   "outputs": [],
   "source": [
    "couleurs.values()"
   ]
  },
  {
   "cell_type": "code",
   "execution_count": null,
   "id": "749e6683",
   "metadata": {
    "slideshow": {
     "slide_type": "-"
    }
   },
   "outputs": [],
   "source": [
    "couleurs.items()"
   ]
  },
  {
   "cell_type": "markdown",
   "id": "07402a78",
   "metadata": {
    "slideshow": {
     "slide_type": "slide"
    }
   },
   "source": [
    "### Les tuples\n",
    "\n",
    "- Les tuples (`tuple`) sont des *séquences* similaires aux listes sauf qu'elles ne peuvent pas être\n",
    "  modifiées (*immutable*).\n",
    "- Les tuples sont souvent utilisés comme valeur de retour d'une fonction.\n",
    "- Contrairement aux listes, les tuples peuvent être utilisés comme clé de dictionnaire, à votre\n",
    "  avis pourquoi ?."
   ]
  },
  {
   "cell_type": "code",
   "execution_count": null,
   "id": "24dd7f49",
   "metadata": {
    "slideshow": {
     "slide_type": "-"
    }
   },
   "outputs": [],
   "source": [
    "voyelles = ('a', 'e', 'i', 'o', 'u', 'y')\n",
    "my_var = tuple('Perl')\n",
    "my_var"
   ]
  },
  {
   "cell_type": "markdown",
   "id": "198530b3",
   "metadata": {
    "slideshow": {
     "slide_type": "slide"
    }
   },
   "source": [
    "## Les structures conditionnelles"
   ]
  },
  {
   "cell_type": "markdown",
   "id": "050d70e5",
   "metadata": {
    "slideshow": {
     "slide_type": "-"
    }
   },
   "source": [
    "```python\n",
    "if condition:\n",
    "    [...]\n",
    "elif condition:  # si besoin\n",
    "    [...]\n",
    "else:  # si besoin\n",
    "    [...]\n",
    "```"
   ]
  },
  {
   "cell_type": "markdown",
   "id": "50402bca",
   "metadata": {
    "slideshow": {
     "slide_type": "slide"
    }
   },
   "source": [
    "### Opérateurs booléens\n",
    "\n",
    "- `not` négation  \n",
    "- `and` conjonction (`True` si les deux opérandes sont vraies, `False` sinon)  \n",
    "- `or` disjonction (`True` si une des deux opérandes est vraie)"
   ]
  },
  {
   "cell_type": "markdown",
   "id": "a77b175b",
   "metadata": {
    "slideshow": {
     "slide_type": "subslide"
    }
   },
   "source": [
    "- Les valeurs ci-dessous sont toutes évaluées par l'interpréteur comme ayant la valeur booléenne\n",
    "  `False` :\n",
    "\n",
    "  `False` `None` `0` (et les nombres qui lui sont égaux) `\"\"` `()` `[]` `{}`\n",
    "\n",
    "- Tout le reste<sup>1</sup> sera évalué comme `True`\n",
    "\n",
    "  Vous pouvez écrire `if var` ou `while my_list` plutôt que `if var != \"\"` ou `while my_list != []`\n",
    "\n",
    "<sup>1</sup> <small>Sauf les objets dont vous avez construit les classes. Voir les diapos à venir\n",
    "sur Classes et objets.</small>"
   ]
  },
  {
   "cell_type": "code",
   "execution_count": null,
   "id": "87407688",
   "metadata": {
    "slideshow": {
     "slide_type": "subslide"
    }
   },
   "outputs": [],
   "source": [
    "x = 4\n",
    "if x > 3 and x <= 5:\n",
    "    print(\"x a grandi, un peu\")\n",
    "elif x > 5:\n",
    "    print(\"x a grandi\")\n",
    "else:\n",
    "    print(\"x n'a pas grandi\")"
   ]
  },
  {
   "cell_type": "markdown",
   "id": "5b676f1b",
   "metadata": {
    "slideshow": {
     "slide_type": "slide"
    }
   },
   "source": [
    "## Les boucles\n",
    "\n",
    "- Les boucles `while` nécessitent que la valeur utilisée dans la condition d'arrêt soit modifiée\n",
    "  dans le corps de la boucle."
   ]
  },
  {
   "cell_type": "code",
   "execution_count": null,
   "id": "25fb0a87",
   "metadata": {
    "slideshow": {
     "slide_type": "-"
    }
   },
   "outputs": [],
   "source": [
    "i = 1\n",
    "while i < 5:\n",
    "    print(i)\n",
    "    i = i + 1"
   ]
  },
  {
   "cell_type": "markdown",
   "id": "af6ccacb",
   "metadata": {
    "slideshow": {
     "slide_type": "subslide"
    }
   },
   "source": [
    "- Les boucles `for` s'appliquent sur les *séquences* (`list`, `str`, `tuple`) et plus généralement\n",
    "  sur les *itérables* [voir doc](https://docs.python.org/3/glossary.html#term-iterable)\n",
    "- Les *itérables* sont des objets issus de classes qui implémentent la méthode `__iter__()` et/ou\n",
    "  `__getitem__()`\n",
    "- L'instruction `continue` permet de passer à l'itération suivante\n",
    "- L'instruction `break` permet de quitter la boucle en cours"
   ]
  },
  {
   "cell_type": "code",
   "execution_count": null,
   "id": "1e4d3db1",
   "metadata": {
    "slideshow": {
     "slide_type": "-"
    }
   },
   "outputs": [],
   "source": [
    "for item in \"aeiouy\":\n",
    "    print(item)"
   ]
  },
  {
   "cell_type": "code",
   "execution_count": null,
   "id": "bd0f9b9f",
   "metadata": {
    "slideshow": {
     "slide_type": "subslide"
    }
   },
   "outputs": [],
   "source": [
    "for item in couleurs:\n",
    "    if item == 'i':\n",
    "        continue\n",
    "    print(item)"
   ]
  },
  {
   "cell_type": "code",
   "execution_count": null,
   "id": "c0e8b2b6",
   "metadata": {
    "slideshow": {
     "slide_type": "subslide"
    }
   },
   "outputs": [],
   "source": [
    "for key, value in couleurs.items():\n",
    "    print(key, value)\n",
    "    if key == 'i':\n",
    "        break"
   ]
  },
  {
   "cell_type": "markdown",
   "id": "cb2cd150",
   "metadata": {},
   "source": [
    "- `zip` permet de boucler sur plusieurs séquences\n",
    "- Si les séquences sont de tailles différentes `zip` s'arrête à la longueur la plus petite"
   ]
  },
  {
   "cell_type": "code",
   "execution_count": null,
   "id": "c85093ca",
   "metadata": {
    "slideshow": {
     "slide_type": "subslide"
    }
   },
   "outputs": [],
   "source": [
    "noms = ['einstein', 'planck', 'turing', 'curie', 'bohr', 'shannon']\n",
    "facs = ['inalco', 'p3', 'p10', 'inalco', 'p3', 'inalco']\n",
    "parcours = ['pro', 'r&d', 'r&d', 'pro', 'pro', 'r&d']\n",
    "for nom, fac, parcours in zip(noms, facs, parcours):\n",
    "    print(f\"{nom} est inscrit en {parcours} à {fac}\")"
   ]
  },
  {
   "cell_type": "markdown",
   "id": "4012847f",
   "metadata": {
    "slideshow": {
     "slide_type": "slide"
    }
   },
   "source": [
    "### ☕ Exos 6 ☕"
   ]
  },
  {
   "cell_type": "markdown",
   "id": "d130c6e9",
   "metadata": {
    "slideshow": {
     "slide_type": "subslide"
    }
   },
   "source": [
    "#### 1. Des triangles\n",
    "\n",
    "1. Écrire une fonction `la_plus_grande(longueur1, longueur2, longueur3)` qui renvoie la longueur du\n",
    "   plus grand côté (une fonction de python fait peut-être déjà cela...).\n",
    "2. Écrire une fonction `est_equilateral(longueur1, longueur2, longueur3)` qui détermine si un\n",
    "   triangle est équilatéral ou non (les trois côtés ont la même longueur).\n",
    "3. Écrire une fonction `est_isocele(longueur1, longueur2, longueur3)` qui détermine si un triangle\n",
    "   est isocèle (deux côtés de même longueur, mais pas trois) ou non.\n",
    "4. Écrire une fonction `caracteristiques(longueur1, longueur2, longueur3)` qui renvoie la nature et\n",
    "   la taille du plus grand côté d'un triangle. On dira qu'un triangle est `quelconque` s'il n'est ni\n",
    "   équilatéral ni isocèle. Affiche `pas un triangle` si les longueurs données ne font pas un\n",
    "   triangle (la longueur du plus grand côté est supérieure à celle des deux autres). On peut\n",
    "   commencer par écrire la fonction `est_triangle` pour vérifier cette dernière condition."
   ]
  },
  {
   "cell_type": "code",
   "execution_count": null,
   "id": "bd88d629",
   "metadata": {
    "slideshow": {
     "slide_type": "subslide"
    }
   },
   "outputs": [],
   "source": [
    "def la_plus_grande(longueur1, longueur2, longueur3):\n",
    "    \"\"\"Renvoie la plus grande longueur.\"\"\"\n",
    "    pass # TODO: codez !\n",
    "\n",
    "def est_equilateral(longueur1, longueur2, longueur3):\n",
    "    \"\"\"Renvoie True si un triangle est équilatéral, False sinon.\"\"\"\n",
    "    pass # TODO: codez !\n",
    "\n",
    "def est_isocele(longueur1, longueur2, longueur3):\n",
    "    \"\"\"Renvoie True si un triangle est isocele, False sinon.\"\"\"\n",
    "    pass # TODO: codez !\n",
    "\n",
    "def est_triangle(longueur1, longueur2, longueur3):\n",
    "    \"\"\"Renvoie True si les longueurs données font bien un triangle, False sinon.\"\"\"\n",
    "    pass # TODO: codez !\n",
    "\n",
    "def caracteristiques(longueur1, longueur2, longueur3):\n",
    "    \"\"\"Renvoie les caractéristiques d'un triangle.\n",
    "    Les caractéristiques d'un triangle sont :\n",
    "        - sa nature\n",
    "        - la taille de son plus grand côté.\n",
    "\n",
    "    On dira qu'un triangle est `quelconque` s'il n'est ni équilatéral ni isocèle.\n",
    "\n",
    "    Affiche `pas un triangle` si les longueurs données ne font pas un triangle\n",
    "    (la longueur du plus grand côté est supérieure à celle des deux autres).\n",
    "    \"\"\"\n",
    "    pass # TODO: codez !"
   ]
  },
  {
   "cell_type": "code",
   "execution_count": null,
   "id": "e697f7cf",
   "metadata": {
    "slideshow": {
     "slide_type": "subslide"
    }
   },
   "outputs": [],
   "source": [
    "assert caracteristiques(1, 1, 1) ==  (\"equilatéral\", 1)\n",
    "assert caracteristiques(1, 1, 2) == (\"isocèle\", 2)\n",
    "assert caracteristiques(1, 2, 1) == (\"isocèle\", 2)\n",
    "assert caracteristiques(2, 1, 1) == (\"isocèle\", 2)\n",
    "assert caracteristiques(2, 3, 1) == (\"quelconque\", 3)\n",
    "assert caracteristiques(2, 3, 6) == \"pas un triangle\"\n",
    "assert caracteristiques(6, 3, 2) == \"pas un triangle\"\n",
    "assert caracteristiques(2, 6, 3) == \"pas un triangle\""
   ]
  },
  {
   "cell_type": "markdown",
   "id": "c41c3cf1",
   "metadata": {
    "slideshow": {
     "slide_type": "subslide"
    }
   },
   "source": [
    "\n",
    "#### 2. La parité\n"
   ]
  },
  {
   "cell_type": "code",
   "execution_count": null,
   "id": "b673e062",
   "metadata": {},
   "outputs": [],
   "source": [
    "def is_even(num):\n",
    "    \"\"\"\n",
    "    Renvoie True si num est pair, False sinon\n",
    "    \"\"\"\n",
    "    # votre code ici"
   ]
  },
  {
   "cell_type": "code",
   "execution_count": null,
   "id": "7ff71c19",
   "metadata": {},
   "outputs": [],
   "source": [
    "assert is_even(1) == False\n",
    "assert is_even(2) == True\n",
    "assert is_even(-3) == False\n",
    "assert is_even(-42) == True\n",
    "assert is_even(0) == True"
   ]
  },
  {
   "cell_type": "markdown",
   "id": "02e6a84d",
   "metadata": {
    "slideshow": {
     "slide_type": "subslide"
    }
   },
   "source": [
    "#### 3. Des heures\n",
    "\n",
    "1. Écrire une fonction `heures(secondes)` qui prend un nombre de secondes (entier) et le convertit\n",
    "   en heures, minutes et secondes sous le format `H:M:S` où `H` est le nombre d'heures, `M` le\n",
    "   nombre de minutes et `S` le nombre de secondes.\n",
    "2. Écrire une fonction `secondes(heure)` qui prend une heure au format `H:M:S` et renvoie le nombre\n",
    "   de secondes correspondantes (entier).\n",
    "\n",
    "On ne gèrera ici pas les cas incohérents comme un nombre de secondes négatif ou une heure mal\n",
    "formatée."
   ]
  },
  {
   "cell_type": "code",
   "execution_count": null,
   "id": "5ccba3bb",
   "metadata": {
    "slideshow": {
     "slide_type": "subslide"
    }
   },
   "outputs": [],
   "source": [
    "def heures(secondes):\n",
    "    \"\"\"Prend un nombre de secondes (entier) et le convertit en heures, minutes\n",
    "    et secondes sous le format `H:M:S` où `H` est le nombre d'heures,\n",
    "    `M` le nombre de minutes et `S` le nombre de secondes.\n",
    "\n",
    "    On suppose que secondes est positif ou nul (secondes >= 0).\n",
    "    \"\"\"\n",
    "    pass # TODO: codez !\n",
    "\n",
    "def secondes(heure):\n",
    "    \"\"\"Prend une heure au format `H:M:S` et renvoie le nombre de secondes\n",
    "    correspondantes (entier).\n",
    "\n",
    "    On suppose que l'heure est bien formattée. On aura toujours un nombre\n",
    "    d'heures valide, un nombre de minutes valide et un nombre de secondes valide.\n",
    "    \"\"\"\n",
    "    pass # TODO: codez !"
   ]
  },
  {
   "cell_type": "code",
   "execution_count": null,
   "id": "5b9e0d1e",
   "metadata": {
    "slideshow": {
     "slide_type": "subslide"
    }
   },
   "outputs": [],
   "source": [
    "assert (heures(0)) == \"0:0:0\"\n",
    "assert(heures(30)) == \"0:0:30\"\n",
    "assert(heures(60)) == \"0:1:0\"\n",
    "assert(heures(66)) == \"0:1:6\"\n",
    "assert(heures(3600)) == \"1:0:0\"\n",
    "assert(heures(86466)) == \"24:1:6\"\n",
    "assert(secondes('0:0:0')) == 0\n",
    "assert(secondes('6:6:6')) == 21966\n",
    "assert(secondes(heures(86466))) == 86466\n",
    "assert(heures(secondes(\"24:1:1\"))) == \"24:1:1\""
   ]
  },
  {
   "cell_type": "markdown",
   "id": "fcf18893",
   "metadata": {
    "slideshow": {
     "slide_type": "slide"
    }
   },
   "source": [
    "## Les listes : fonctions\n",
    "\n",
    "Les listes héritent des fonctions des *sequences*, elles ont également des [méthodes\n",
    "propres](https://docs.python.org/3/tutorial/datastructures.html#more-on-lists)"
   ]
  },
  {
   "cell_type": "code",
   "execution_count": null,
   "id": "a8ed62d0",
   "metadata": {
    "slideshow": {
     "slide_type": "-"
    }
   },
   "outputs": [],
   "source": [
    "stack = [12, 15, 12, 7, 18]"
   ]
  },
  {
   "cell_type": "markdown",
   "id": "5e147dcd",
   "metadata": {},
   "source": [
    "Parmi ces fonctions, nous utiliserons principalement :"
   ]
  },
  {
   "cell_type": "markdown",
   "id": "7e22f4f7",
   "metadata": {
    "slideshow": {
     "slide_type": "subslide"
    }
   },
   "source": [
    "- `append(x)` : ajoute un élément `x` à la fin de la liste (haut de la pile*)"
   ]
  },
  {
   "cell_type": "code",
   "execution_count": null,
   "id": "0caa4a6f",
   "metadata": {},
   "outputs": [],
   "source": [
    "stack.append(3)\n",
    "display(stack)"
   ]
  },
  {
   "cell_type": "markdown",
   "id": "d80bd5e6",
   "metadata": {
    "slideshow": {
     "slide_type": "subslide"
    }
   },
   "source": [
    "- `extend(lst)` : ajoute tous les éléments de `lst` à la fin de la liste"
   ]
  },
  {
   "cell_type": "code",
   "execution_count": null,
   "id": "3fa07e14",
   "metadata": {},
   "outputs": [],
   "source": [
    "stack.extend([10, 11])\n",
    "display(stack)"
   ]
  },
  {
   "cell_type": "markdown",
   "id": "39cf1acf",
   "metadata": {
    "slideshow": {
     "slide_type": "subslide"
    }
   },
   "source": [
    "- `pop(index=-1)` : supprime et renvoie l'élément de la liste à la position `index`"
   ]
  },
  {
   "cell_type": "code",
   "execution_count": null,
   "id": "74945698",
   "metadata": {},
   "outputs": [],
   "source": [
    "h = stack.pop()\n",
    "display(h)\n",
    "display(stack)"
   ]
  },
  {
   "cell_type": "markdown",
   "id": "9646b74c",
   "metadata": {
    "slideshow": {
     "slide_type": "subslide"
    }
   },
   "source": [
    "- `index(x)` : renvoie l'index du premier élément de valeur x"
   ]
  },
  {
   "cell_type": "code",
   "execution_count": null,
   "id": "72b91975",
   "metadata": {},
   "outputs": [],
   "source": [
    "stack.index(12)"
   ]
  },
  {
   "cell_type": "markdown",
   "id": "619e1089",
   "metadata": {
    "slideshow": {
     "slide_type": "subslide"
    }
   },
   "source": [
    "- `count(x)` : renvoie le nombre de fois où x apparaît\n",
    "\n",
    "  **Attention** : si vous avez plusieurs éléments à compter, utilisez plutôt\n",
    "  [`collections.Counter`](https://docs.python.org/3/library/collections.html#collections.Counter)"
   ]
  },
  {
   "cell_type": "code",
   "execution_count": null,
   "id": "04ef38f3",
   "metadata": {},
   "outputs": [],
   "source": [
    "stack.count(12)"
   ]
  },
  {
   "cell_type": "markdown",
   "id": "9eb30eef",
   "metadata": {
    "slideshow": {
     "slide_type": "subslide"
    }
   },
   "source": [
    "- `sort(key=None, reverse=False)` : trie et modifie la liste, lire la\n",
    "    [doc](https://docs.python.org/3/howto/sorting.html#sortinghowto) pour en savoir plus sur les\n",
    "    ordres de tri."
   ]
  },
  {
   "cell_type": "code",
   "execution_count": null,
   "id": "58ae187e",
   "metadata": {},
   "outputs": [],
   "source": [
    "stack.sort()\n",
    "display(stack)"
   ]
  },
  {
   "cell_type": "markdown",
   "id": "9663ce1f",
   "metadata": {
    "slideshow": {
     "slide_type": "subslide"
    }
   },
   "source": [
    "Attention à ne pas confondre `append` et `extend`"
   ]
  },
  {
   "cell_type": "code",
   "execution_count": null,
   "id": "44b4bdd3",
   "metadata": {},
   "outputs": [],
   "source": [
    "stack.append(23)\n",
    "display(stack)"
   ]
  },
  {
   "cell_type": "code",
   "execution_count": null,
   "id": "6904811b",
   "metadata": {},
   "outputs": [],
   "source": [
    "stack.append([35, 46])\n",
    "display(stack)"
   ]
  },
  {
   "cell_type": "code",
   "execution_count": null,
   "id": "d6f28715",
   "metadata": {},
   "outputs": [],
   "source": [
    "stack.extend([51, 52])\n",
    "display(stack)"
   ]
  },
  {
   "cell_type": "markdown",
   "id": "9c202536",
   "metadata": {
    "slideshow": {
     "slide_type": "slide"
    }
   },
   "source": [
    "### ✍️ Exo 7 ✍️"
   ]
  },
  {
   "cell_type": "code",
   "execution_count": null,
   "id": "1023f0ec",
   "metadata": {},
   "outputs": [],
   "source": [
    "def tokenize(sentence):\n",
    "    \"\"\"\n",
    "    Tokenize la phrase donnée en argument (sep = espace).\n",
    "    Renvoie une liste de mots. Les mots composés avec un tiret\n",
    "    sont décomposés dans des sous-listes.\n",
    "    Args:\n",
    "        sentence (string): la phrase à tokenizer\n",
    "    Returns:\n",
    "        list\n",
    "    \"\"\"\n",
    "    pass # À vous"
   ]
  },
  {
   "cell_type": "code",
   "execution_count": null,
   "id": "ed4ed1b3",
   "metadata": {},
   "outputs": [],
   "source": [
    "assert tokenize(\"je suis né dans le gris par accident\") == \\\n",
    "    ['je', 'suis', 'né', 'dans', 'le', 'gris', 'par', 'accident']\n",
    "assert tokenize(\"tout mon cœur est resté là-bas\") == \\\n",
    "    ['tout', 'mon', 'cœur', 'est', 'resté', ['là', 'bas']]"
   ]
  },
  {
   "cell_type": "markdown",
   "id": "7a2fd362",
   "metadata": {
    "slideshow": {
     "slide_type": "slide"
    }
   },
   "source": [
    "### Les listes en compréhension\n",
    "\n",
    "- Elles permettent de définir des listes par filtrage ou opération sur les éléments d'une autre\n",
    "  liste\n",
    "- La [PEP 202](http://www.python.org/dev/peps/pep-0202/) conseille de préférer les listes en\n",
    "  compréhension aux fonctions `map()` et `filter()`  \n",
    "- C'est puissant et concis, *so pythonic*"
   ]
  },
  {
   "cell_type": "code",
   "execution_count": null,
   "id": "c0b22fa3",
   "metadata": {},
   "outputs": [],
   "source": [
    "[i ** 2 for i in range(10)]"
   ]
  },
  {
   "cell_type": "code",
   "execution_count": null,
   "id": "d5f10473",
   "metadata": {
    "slideshow": {
     "slide_type": "subslide"
    }
   },
   "outputs": [],
   "source": [
    "[i ** 2 for i in range(10) if i % 2 == 0]"
   ]
  },
  {
   "cell_type": "code",
   "execution_count": null,
   "id": "7aca99c7",
   "metadata": {
    "slideshow": {
     "slide_type": "subslide"
    }
   },
   "outputs": [],
   "source": [
    "[(i, j) for i in range(2) for j in ['a', 'b']]"
   ]
  },
  {
   "cell_type": "markdown",
   "id": "a727b455",
   "metadata": {
    "slideshow": {
     "slide_type": "slide"
    }
   },
   "source": [
    "### ✍️ Exo 8 ✍️\n",
    "\n",
    "Utilisez une liste en compréhension sur la sortie de votre fonction `tokenize` de manière à ne\n",
    "retenir que les noms composés"
   ]
  },
  {
   "cell_type": "code",
   "execution_count": null,
   "id": "203a47ee",
   "metadata": {},
   "outputs": [],
   "source": [
    "words = tokenize(\"De-ci de-là, cahin-caha, va trottine, va chemine, va petit âne\")\n",
    "compounds = [] # ← modifiez ça\n",
    "assert compounds == [['De', 'ci'], ['de', 'là,'], ['cahin', 'caha,']]"
   ]
  },
  {
   "cell_type": "markdown",
   "id": "23d14c93",
   "metadata": {
    "slideshow": {
     "slide_type": "slide"
    }
   },
   "source": [
    "### Parcours de liste\n",
    "\n",
    "La boucle `for` est particulièrement adaptée pour parcourir les itérables et donc les listes"
   ]
  },
  {
   "cell_type": "code",
   "execution_count": null,
   "id": "9e064e50",
   "metadata": {
    "slideshow": {
     "slide_type": "-"
    }
   },
   "outputs": [],
   "source": [
    "voyelles = ['a', 'e', 'i', 'o', 'u']\n",
    "for item in voyelles:\n",
    "    print(item)"
   ]
  },
  {
   "cell_type": "markdown",
   "id": "e4c00943",
   "metadata": {
    "slideshow": {
     "slide_type": "subslide"
    }
   },
   "source": [
    "La fonction `enumerate` peut être utile dans certains cas, elle renvoie un `tuple` contenant\n",
    "l'indice et la valeur de l'item à l'indice concerné"
   ]
  },
  {
   "cell_type": "code",
   "execution_count": null,
   "id": "9ec1aca6",
   "metadata": {},
   "outputs": [],
   "source": [
    "for i, item in enumerate(voyelles):\n",
    "    print(i, item)"
   ]
  },
  {
   "cell_type": "markdown",
   "id": "7092131c",
   "metadata": {},
   "source": [
    "C'est de très loin préférable à itérer sur `range(len(voyelles))`."
   ]
  },
  {
   "cell_type": "markdown",
   "id": "8697d81a",
   "metadata": {
    "slideshow": {
     "slide_type": "slide"
    }
   },
   "source": [
    "### Copie\n",
    "\n",
    "Dans `y = x`, `y` n'est pas une copie de x, les deux pointent vers le même objet. C'st\n",
    "particulièrement important pour les objets *mutables* comme les listes."
   ]
  },
  {
   "cell_type": "code",
   "execution_count": null,
   "id": "374bf221",
   "metadata": {},
   "outputs": [],
   "source": [
    "x = [1, 2, 3]\n",
    "y = x\n",
    "y[0] = 4"
   ]
  },
  {
   "cell_type": "code",
   "execution_count": null,
   "id": "c9e28229",
   "metadata": {},
   "outputs": [],
   "source": [
    "display(x)"
   ]
  },
  {
   "cell_type": "markdown",
   "id": "d6a9467b",
   "metadata": {
    "slideshow": {
     "slide_type": "subslide"
    }
   },
   "source": [
    "Si ce qu'on veut copier est une liste, on peut utiliser"
   ]
  },
  {
   "cell_type": "code",
   "execution_count": null,
   "id": "d3b724b1",
   "metadata": {},
   "outputs": [],
   "source": [
    "x = [1, 2, 3]\n",
    "y = x[:]"
   ]
  },
  {
   "cell_type": "markdown",
   "id": "d5290bfb",
   "metadata": {
    "slideshow": {
     "slide_type": "subslide"
    }
   },
   "source": [
    "ou"
   ]
  },
  {
   "cell_type": "code",
   "execution_count": null,
   "id": "4b72b5d0",
   "metadata": {},
   "outputs": [],
   "source": [
    "y = list(x)\n",
    "y[0] = 4\n",
    "x"
   ]
  },
  {
   "cell_type": "markdown",
   "id": "02e29006",
   "metadata": {
    "slideshow": {
     "slide_type": "subslide"
    }
   },
   "source": [
    "Il y a d'autres façons de faire. Pour les objets complexes on peut regarder du côté du module\n",
    "[`copy`](https://docs.python.org/3/library/copy.html), mais il n'y a pas de réponse universelle et\n",
    "copier c'est souvent coûteux. Le mieux à faire quand on a envie de faire une copie, c'est de\n",
    "commencer par se demander si on en a vraiment besoin."
   ]
  },
  {
   "cell_type": "markdown",
   "id": "b9733a53",
   "metadata": {
    "slideshow": {
     "slide_type": "slide"
    }
   },
   "source": [
    "## Déballage de séquences\n",
    "\n",
    "- Le *sequence unpacking* permet d'effectuer plusieurs affectations simultanées\n",
    "- L'*unpacking* s'applique souvent sur des tuples"
   ]
  },
  {
   "cell_type": "code",
   "execution_count": null,
   "id": "90dc1104",
   "metadata": {},
   "outputs": [],
   "source": [
    "x, y, z = (1, 2, 3)\n",
    "y"
   ]
  },
  {
   "cell_type": "code",
   "execution_count": null,
   "id": "c2d12129",
   "metadata": {},
   "outputs": [],
   "source": [
    "lexique = [(\"maison\", \"mEz§\"), (\"serpent\", \"sERp@\")]\n",
    "for ortho, phon in lexique:\n",
    "    print(phon)"
   ]
  },
  {
   "cell_type": "markdown",
   "id": "180dac26",
   "metadata": {
    "slideshow": {
     "slide_type": "subslide"
    }
   },
   "source": [
    "- On peut aussi utiliser `*` pour déballer une séquence en argument de fonction"
   ]
  },
  {
   "cell_type": "code",
   "execution_count": null,
   "id": "78abfb0c",
   "metadata": {},
   "outputs": [],
   "source": [
    "bornes = (0, 10)\n",
    "for i in range(*bornes):\n",
    "    print(i)"
   ]
  },
  {
   "cell_type": "markdown",
   "id": "634fa530",
   "metadata": {
    "slideshow": {
     "slide_type": "slide"
    }
   },
   "source": [
    "## Les ensembles\n",
    "\n",
    "Les ensembles ([`set`](https://docs.python.org/3/library/stdtypes.html#set)) sont des collections\n",
    "non ordonnées d'éléments sans doublons Les ensembles supportent les fonctions mathématiques d'union,\n",
    "d'intersection, de différence :\n",
    "\n",
    "- `value in s` renvoie si `value` est un élément de `s`\n",
    "- `union(*sets)` renvoie l'union de tous les `sets` (l'ensemble des valeurs contenues dans tous les\n",
    "  sets).\n",
    "- `intersection(*sets)` renvoie l'intersection de tous les `sets` (l'ensemble des valeurs contenues\n",
    "  dans au moins un set).\n"
   ]
  },
  {
   "cell_type": "code",
   "execution_count": null,
   "id": "088737b8",
   "metadata": {
    "slideshow": {
     "slide_type": "subslide"
    }
   },
   "outputs": [],
   "source": [
    "ens0 = set()  # on crée l'ensemble vide\n",
    "ens0"
   ]
  },
  {
   "cell_type": "code",
   "execution_count": null,
   "id": "f6dfda6f",
   "metadata": {},
   "outputs": [],
   "source": [
    "ens1 = {'le', 'guépard', 'le', 'poursuit'}\n",
    "ens1"
   ]
  },
  {
   "cell_type": "code",
   "execution_count": null,
   "id": "23cd7da3",
   "metadata": {},
   "outputs": [],
   "source": [
    "ens2 = {\"avec\", \"le\", \"chandelier\", \"dans\", \"la\", \"cuisine\"}\n",
    "ens1.intersection(ens2)"
   ]
  },
  {
   "cell_type": "markdown",
   "id": "e21f7cef",
   "metadata": {
    "slideshow": {
     "slide_type": "subslide"
    }
   },
   "source": [
    "Attention il y a un piège"
   ]
  },
  {
   "cell_type": "code",
   "execution_count": null,
   "id": "4640c8bc",
   "metadata": {},
   "outputs": [],
   "source": [
    "a = {1}\n",
    "type(a)"
   ]
  },
  {
   "cell_type": "code",
   "execution_count": null,
   "id": "a82d5408",
   "metadata": {},
   "outputs": [],
   "source": [
    "b = {}\n",
    "type(b)"
   ]
  },
  {
   "cell_type": "markdown",
   "id": "b16a5289",
   "metadata": {
    "slideshow": {
     "slide_type": "slide"
    }
   },
   "source": [
    "## ✍️ Exo 9\n",
    "\n",
    "Dans cet extrait de données tirées des [listes de Swadesh de langues\n",
    "austronésiennes](https://en.wiktionary.org/wiki/Appendix:Austronesian_Swadesh_lists), ici pour le\n",
    "tagalog et le cebuano, trouvez les mots en commun."
   ]
  },
  {
   "cell_type": "code",
   "execution_count": null,
   "id": "4ab74f29",
   "metadata": {},
   "outputs": [],
   "source": [
    "tagalog = {'i':'ako', 'you_sg':'ikaw', 'he':'siya', 'we':'tayo', 'you_pl':'kayo', 'they':'sila',\\\n",
    "           'this':'ito', 'that':'iyan', 'here':'dito', 'there':'doon', 'who':'sino',\\\n",
    "           'what':'ano', 'where':'saan', 'when':'kailan', 'how':'paano'}\n",
    "cebuano = {'i':'ako', 'you_sg':'ikaw', 'he':'siya', 'we':'kita', 'you_pl':'kamo', 'they':'sila',\\\n",
    "           'this':'kiri', 'that':'kana', 'here':'diri', 'there':'diha', 'who':'kinsa',\\\n",
    "           'what':'unsa', 'where':'asa', 'when':'kanus-a', 'how':'unsaon'}\n",
    "# Votre code ici"
   ]
  },
  {
   "cell_type": "markdown",
   "id": "6fc1ce1d",
   "metadata": {
    "slideshow": {
     "slide_type": "slide"
    }
   },
   "source": [
    "## Les dictionnaires : suite\n",
    "\n",
    "- Les dictionnaires ([`dict`](https://docs.python.org/3/library/stdtypes.html#mapping-types-dict))\n",
    "  sont des structures de données associatives de type clé: valeur.\n",
    "- Les clés d'un dictionnaire sont uniques, seuls les types *hashable* (*immutable* et objets que\n",
    "  vous avez définis) peuvent être des clés.\n",
    "\n",
    "  - `key in d` renvoie `True` si `key` est une clé de `d`\n",
    "  - `keys()` renvoie la liste des clés\n",
    "  - `values()` renvoie la liste des valeurs\n",
    "  - `items()` renvoie la liste des couples clé:valeur (tuple)\n",
    "  - `get(key, default=None)` renvoie la valeur associée à `key`. Si `key` n'existe pas, renvoie\n",
    "    l'argument `default`. Ne modifie pas le dictionnaire.\n",
    "  - `setdefault(key, default=None)` si `key` n'existe pas, insère `key` avec la valeur `default`\n",
    "    dans le dictionnaire puis renvoie la valeur associée à la clé."
   ]
  },
  {
   "cell_type": "code",
   "execution_count": null,
   "id": "fc12ecb3",
   "metadata": {
    "slideshow": {
     "slide_type": "subslide"
    }
   },
   "outputs": [],
   "source": [
    "d = {'Perl':'Larry Wall', 'Python':'Guido Van Rossum', 'C++':'Bjarne Stroustrup'}\n",
    "d['Perl']"
   ]
  },
  {
   "cell_type": "code",
   "execution_count": null,
   "id": "98841241",
   "metadata": {},
   "outputs": [],
   "source": [
    "d['Ruby']"
   ]
  },
  {
   "cell_type": "code",
   "execution_count": null,
   "id": "bdd4e2ed",
   "metadata": {},
   "outputs": [],
   "source": [
    "d.setdefault('Ruby', 'je sais pas')\n",
    "d"
   ]
  },
  {
   "cell_type": "markdown",
   "id": "cc15db85",
   "metadata": {
    "slideshow": {
     "slide_type": "slide"
    }
   },
   "source": [
    "## Module collections\n",
    "\n",
    "- Le module *collections* propose des implémentations de structures de données supplémentaires\n",
    "- Dans la liste (voir [doc](https://docs.python.org/3/library/collections.html)), deux pourront\n",
    "  nous intéresser :\n",
    "\n",
    "  - `defaultdict`\n",
    "\n",
    "`defauldict` est similaire à un `dict`, mais il permet l'*autovivification* : les clés sont créées à\n",
    "la volée si elles n'existent pas.\n",
    "\n",
    "Son implémentation le rend plus rapide qu'un dictionnaire utilisé avec la fonction `setdefault`\n"
   ]
  },
  {
   "cell_type": "code",
   "execution_count": null,
   "id": "e4d96eef",
   "metadata": {
    "slideshow": {
     "slide_type": "subslide"
    }
   },
   "outputs": [],
   "source": [
    "import collections\n",
    "lexique = [(\"couvent\", \"kuv\"), (\"couvent\", \"kuv@\")]\n",
    "dico = collections.defaultdict(list)\n",
    "for ortho, phon in lexique:\n",
    "    dico[ortho].append(phon)\n",
    "dico"
   ]
  },
  {
   "cell_type": "markdown",
   "id": "b60aa788",
   "metadata": {
    "slideshow": {
     "slide_type": "subslide"
    }
   },
   "source": [
    "- `Counter`\n",
    "  \n",
    "`Counter` est un dictionnaire où les valeurs attendues sont les nombres d'occurrences des clés"
   ]
  },
  {
   "cell_type": "code",
   "execution_count": null,
   "id": "5722326d",
   "metadata": {},
   "outputs": [],
   "source": [
    "from collections import Counter\n",
    "cnt = Counter()\n",
    "lst = ['le', 'guépard', 'le', 'poursuit']\n",
    "for item in lst:\n",
    "    cnt[item] += 1\n",
    "display(cnt)"
   ]
  },
  {
   "cell_type": "markdown",
   "id": "b46d5210",
   "metadata": {
    "slideshow": {
     "slide_type": "subslide"
    }
   },
   "source": [
    "### ✍️ Exo 10\n",
    "\n",
    "Faites la même chose avec un dictionnaire\n"
   ]
  },
  {
   "cell_type": "markdown",
   "id": "bdb5d312",
   "metadata": {
    "slideshow": {
     "slide_type": "slide"
    }
   },
   "source": [
    "## Les fichiers\n",
    "\n",
    "- Pour travailler avec les fichiers on doit procéder à deux opérations :\n",
    "   1. Ouverture avec la fonction [`open`](https://docs.python.org/3/library/functions.html#open)\n",
    "      (lève l'exception `FileNotFoundError` en cas d'échec)\n",
    "   2. Lecture (`read` ou `readline` ou `readlines`) et/ou écriture (`write`)\n",
    "- Ouverture\n",
    "  - `open` est une fonction qui accepte de nombreux arguments : lire [la\n",
    "    doc](https://docs.python.org/3/library/functions.html#open)\n",
    "  - `open` renvoie un objet de type `file`\n",
    "  - Le plus souvent elle s'emploie de la manière suivante :\n",
    "\n",
    "    ```python\n",
    "    with open(\"mon_fichier\", mode=\"r\") as in_stream:\n",
    "        read_data = in_stream.read()\n",
    "    ```\n",
    "\n",
    "    L'utilisation du mot clé `with` garantit la fermeture du fichier même si une exception est\n",
    "    soulevée."
   ]
  },
  {
   "cell_type": "markdown",
   "id": "f265ee31",
   "metadata": {
    "slideshow": {
     "slide_type": "subslide"
    }
   },
   "source": [
    "Les modes sont :\n",
    "\n",
    "- `r` : lecture (défaut)\n",
    "- `w` : écriture\n",
    "- `x` : création et écriture (échec si le fichier existe déjà)\n",
    "- `a` : concaténation (append)\n",
    "- `b` : mode binaire\n",
    "- `t` : mode texte (défaut)\n",
    "- `+` : mise à jour\n",
    "\n",
    "Voir [la doc](https://docs.python.org/3/library/functions.html#open) pour les détails"
   ]
  },
  {
   "cell_type": "markdown",
   "id": "18b5acb9",
   "metadata": {
    "slideshow": {
     "slide_type": "subslide"
    }
   },
   "source": [
    "## Les fichiers : lecture\n",
    "\n",
    "- `read(size=-1)` lit les `size` premiers octets (mode `b`) ou caractères (mode `t`). Si `size < 0`,\n",
    "  lit tout le fichier.\n",
    "- `readline(size=-1)` lit au plus `size` caractères ou jusqu'à la fin de ligne. Si `size < 0`, lit\n",
    "  toute la ligne. Il est conseillé de ne pas toucher à `size`.\n",
    "- `readlines(hint=-1)` lit `hint` lignes du fichier. Si `hint` < 0, lit toutes les lignes du\n",
    "  fichier.\n",
    "- Un objet `file` est un itérable ! C'est la façon Pythonique de faire :"
   ]
  },
  {
   "cell_type": "code",
   "execution_count": 5,
   "id": "25d9d75e",
   "metadata": {},
   "outputs": [
    {
     "name": "stdout",
     "output_type": "stream",
     "text": [
      "Rayons émis par les composés de l’uranium et du thorium\n",
      "\n",
      "Marie Curie\n",
      "\n",
      "Exporté de Wikisource le 20 février 2021\n",
      "\n",
      "RAYONS ÉMIS PAR LES COMPOSÉS DE L’URANIUM ET DU THORIUM\n",
      "\n",
      "PHYSIQUE. — Rayons émis par les composés de l’uranium et du thorium.\n",
      "\n",
      "Note de Mme Sklodowska-Curie [1], présentée par M. Lippmann.\n"
     ]
    }
   ],
   "source": [
    "with open(\"data/demo.txt\") as in_stream:\n",
    "    for line in in_stream:\n",
    "        print(line)"
   ]
  },
  {
   "cell_type": "markdown",
   "id": "aea6b7e4-c57c-461f-9a89-91408d3248b2",
   "metadata": {},
   "source": [
    "Attention, les fins de lignes sont conservées (c'est pour ça qu'on a des lignes blanches ici). Pour les enlever on peut utiliser `strip()` :"
   ]
  },
  {
   "cell_type": "code",
   "execution_count": 6,
   "id": "e72530b6-304b-44a3-aba8-626256fc66bb",
   "metadata": {},
   "outputs": [
    {
     "name": "stdout",
     "output_type": "stream",
     "text": [
      "Rayons émis par les composés de l’uranium et du thorium\n",
      "Marie Curie\n",
      "Exporté de Wikisource le 20 février 2021\n",
      "RAYONS ÉMIS PAR LES COMPOSÉS DE L’URANIUM ET DU THORIUM\n",
      "PHYSIQUE. — Rayons émis par les composés de l’uranium et du thorium.\n",
      "Note de Mme Sklodowska-Curie [1], présentée par M. Lippmann.\n"
     ]
    }
   ],
   "source": [
    "with open(\"data/demo.txt\") as in_stream:\n",
    "    for line in in_stream:\n",
    "        print(line.strip())"
   ]
  },
  {
   "cell_type": "markdown",
   "id": "5b2fd4d7",
   "metadata": {
    "lines_to_next_cell": 0,
    "slideshow": {
     "slide_type": "subslide"
    }
   },
   "source": [
    "## Les fichiers : écriture et fermeture\n",
    "\n",
    "`write(text)` écrit `texte` dans le fichier\n"
   ]
  },
  {
   "cell_type": "code",
   "execution_count": null,
   "id": "fcc0de98",
   "metadata": {
    "slideshow": {
     "slide_type": "-"
    }
   },
   "outputs": [],
   "source": [
    "with open(\"demo.txt\", 'w') as out_stream:\n",
    "    for item in [\"spam\", \"ham\", \"ægget\"]:\n",
    "        out_stream.write(item)\n",
    "        out_stream.write(\"\\n\")"
   ]
  },
  {
   "cell_type": "markdown",
   "id": "5c7978c6",
   "metadata": {
    "lines_to_next_cell": 0
   },
   "source": [
    "Attention, `write` n'ajoute pas de fin de ligne `\\n` à votre place."
   ]
  },
  {
   "cell_type": "markdown",
   "id": "4e2ca68c",
   "metadata": {
    "slideshow": {
     "slide_type": "subslide"
    }
   },
   "source": [
    "- `sys.stdin`, `sys.stdout` et `sys.stderr` sont des objets de type `file`"
   ]
  },
  {
   "cell_type": "markdown",
   "id": "480d4e3c",
   "metadata": {
    "slideshow": {
     "slide_type": "slide"
    }
   },
   "source": [
    "### ✍️ Exo 11\n",
    "\n",
    "Lisez le fichier [`data/austronesian_swadesh.csv`](data/austronesian_swadesh.csv) et écrivez les\n",
    "mots des langues Ilocano et Malagasy dans deux fichiers distincts.\n",
    "\n",
    "Les données viennent de\n",
    "[Wiktionary](https://en.wiktionary.org/wiki/Appendix:Austronesian_Swadesh_lists).\n",
    "\n",
    "(Essayez de faire comme si vous ne connaissiez pas le module csv sinon la partie qui suit n'aura\n",
    "aucun intérêt.)"
   ]
  },
  {
   "cell_type": "code",
   "execution_count": null,
   "id": "56934fd8",
   "metadata": {},
   "outputs": [],
   "source": [
    "# c'est compliqué sans le module csv quand même"
   ]
  },
  {
   "cell_type": "markdown",
   "id": "8bc07ed2",
   "metadata": {
    "slideshow": {
     "slide_type": "slide"
    }
   },
   "source": [
    "\n",
    "## Module csv\n",
    "\n",
    "La documentation est ici\n",
    ": [https://docs.python.org/3/library/csv.html](https://docs.python.org/3/library/csv.html)  \n",
    "Parce que les données au format csv sont très répandues et parce qu'il peut être pénible de le lire\n",
    "correctement, le module csv est là pour vous aider.  \n",
    "Pour le dire vite il y a deux façons de l'utiliser : reader/writer ou DictReader/DictWriter."
   ]
  },
  {
   "cell_type": "markdown",
   "id": "c50b3206",
   "metadata": {
    "slideshow": {
     "slide_type": "subslide"
    }
   },
   "source": [
    "- `csv.reader`"
   ]
  },
  {
   "cell_type": "code",
   "execution_count": null,
   "id": "a8f5518d",
   "metadata": {},
   "outputs": [],
   "source": [
    "import csv\n",
    "\n",
    "swadesh_light = []\n",
    "with open('data/austronesian_swadesh.csv') as csvfile:\n",
    "    reader = csv.reader(csvfile, delimiter=',', quotechar='\"') # à l'ouverture je spécifie les séparateur de champ et de chaîne  \n",
    "    for row in reader: # l'objet reader est un itérable\n",
    "        swadesh_light.append(row[0:3])\n",
    "        print(' | '.join(row[0:3])) # row est une liste de chaînes de caractères"
   ]
  },
  {
   "cell_type": "markdown",
   "id": "7a72d726",
   "metadata": {
    "slideshow": {
     "slide_type": "subslide"
    }
   },
   "source": [
    "- `csv.writer`"
   ]
  },
  {
   "cell_type": "code",
   "execution_count": null,
   "id": "58d9b6aa",
   "metadata": {},
   "outputs": [],
   "source": [
    "with open('swadesh_light.csv', 'w') as csvfile:\n",
    "    writer = csv.writer(csvfile, delimiter='|',quotechar='\"')\n",
    "    #writer.writerows(swadesh_light) ici on écrit tout en une fois\n",
    "    for item in swadesh_light:\n",
    "        writer.writerow(item) # writerow reçoit une liste de chaînes"
   ]
  },
  {
   "cell_type": "markdown",
   "id": "1c39da71",
   "metadata": {
    "slideshow": {
     "slide_type": "subslide"
    }
   },
   "source": [
    "- csv.DictReader  \n",
    "\n",
    "Cette classe s'appuie sur la ligne d'en-tête pour créer une suite de dictionnaires.  \n",
    "S'il n'y a pas de ligne d'en-tête on peut utiliser une liste `fieldnames` en paramètre."
   ]
  },
  {
   "cell_type": "code",
   "execution_count": null,
   "id": "29670f26",
   "metadata": {
    "slideshow": {
     "slide_type": "-"
    }
   },
   "outputs": [],
   "source": [
    "with open('data/austronesian_swadesh.csv') as csvfile:\n",
    "    reader = csv.DictReader(csvfile, delimiter=',',quotechar='\"')\n",
    "    for row in reader: # ici row est un dictionnaire\n",
    "         print(f\"{row['Ilocano']} | {row['Malagasy']}\")\n"
   ]
  },
  {
   "cell_type": "markdown",
   "id": "017e21e2",
   "metadata": {
    "slideshow": {
     "slide_type": "subslide"
    }
   },
   "source": [
    "- csv.DictWriter  \n",
    "\n",
    "Cette fois il s'agit de générer un fichier csv à partir d'une séquence de dictionnaires. Le\n",
    "paramètre `fieldnames` est obligatoire."
   ]
  },
  {
   "cell_type": "code",
   "execution_count": null,
   "id": "19636b97",
   "metadata": {},
   "outputs": [],
   "source": [
    "with open('swadesh_light.csv', 'w') as csvfile:\n",
    "    fieldnames = ['english', 'ilocano']\n",
    "    writer = csv.DictWriter(csvfile, fieldnames=fieldnames, delimiter='|',quotechar='$')\n",
    "    writer.writeheader()\n",
    "    for num, en, ilo in swadesh_light:\n",
    "        writer.writerow({'english': en, 'ilocano': ilo})\n"
   ]
  },
  {
   "cell_type": "markdown",
   "id": "e76a0bab",
   "metadata": {
    "slideshow": {
     "slide_type": "slide"
    }
   },
   "source": [
    "## Module `re`"
   ]
  },
  {
   "cell_type": "code",
   "execution_count": null,
   "id": "3cdc2e44",
   "metadata": {},
   "outputs": [],
   "source": [
    "import re"
   ]
  },
  {
   "cell_type": "markdown",
   "id": "863d2a1f",
   "metadata": {
    "slideshow": {
     "slide_type": "subslide"
    }
   },
   "source": [
    "- `re` est un module particulièrement important, vous devez lire la\n",
    "  [doc](https://docs.python.org/3/library/re.html), absolument\n",
    "\n",
    "- La doc officielle est parfois aride, ce [howto](https://docs.python.org/3/howto/regex.html)\n",
    "  rédigé par A.M. Kuchling est plus digeste\n",
    "\n",
    "a minima vous devez connaître les fonctions :\n",
    "\n",
    "- `findall` : trouve toutes les occurences du motif, retourne une liste de chaînes trouvées\n",
    "- `search` : trouve le motif, retourne un objet `Match`, `None` sinon\n",
    "- `match` : détermine si le motif est présent au début de la chaîne, retourne un objet `Match`,\n",
    "  `None` sinon\n",
    "- `split` : découpe une chaîne selon un motif, retourne une liste de chaînes\n",
    "- `sub` : remplace les occurences d'un motif par une chaîne de remplacement\n",
    "- `compile` : compilation d'un motif (pattern), retourne un objet `Pattern`"
   ]
  },
  {
   "cell_type": "code",
   "execution_count": null,
   "id": "55fd35c5",
   "metadata": {
    "slideshow": {
     "slide_type": "subslide"
    }
   },
   "outputs": [],
   "source": [
    "if re.search(r\"(\\w|\\s)+\", \"Un léopard me pourchasse\"):\n",
    "    print(\"Cours !\")"
   ]
  },
  {
   "cell_type": "code",
   "execution_count": null,
   "id": "27205b94",
   "metadata": {},
   "outputs": [],
   "source": [
    "re.sub(r'e|é', 'i', 'éléphanteau')"
   ]
  },
  {
   "cell_type": "markdown",
   "id": "03080f30",
   "metadata": {
    "slideshow": {
     "slide_type": "subslide"
    }
   },
   "source": [
    "## `\\w`\n",
    "\n",
    "`\\w` est la classe prédéfinie des caractères alphanumériques, c'est-à-dire à tous les caractères qui\n",
    "ont la propriété Unicode `Letter`` d'après le module `unicodedata` (sauf si le motif est compilé\n",
    "en binaire ou si l'option `re.ASCII` est activée)"
   ]
  },
  {
   "cell_type": "code",
   "execution_count": null,
   "id": "3ad45218",
   "metadata": {},
   "outputs": [],
   "source": [
    "if re.search(r\"\\w\", \"馬青區團長成中央代表\"):\n",
    "    print(\"Yeah !\")"
   ]
  },
  {
   "cell_type": "code",
   "execution_count": null,
   "id": "0489138f",
   "metadata": {},
   "outputs": [],
   "source": [
    "if re.search(r\"\\w\", \"هيلاري كلينتون\"):\n",
    "    print(\"Yeah !\")"
   ]
  },
  {
   "cell_type": "markdown",
   "id": "809f4deb",
   "metadata": {
    "slideshow": {
     "slide_type": "slide"
    }
   },
   "source": [
    "### ☕ Exos 12 ☕"
   ]
  },
  {
   "cell_type": "markdown",
   "id": "0f2344dd",
   "metadata": {},
   "source": [
    "1\\. Écrire une fonction qui reçoit deux noms de langue austronésiennes, une liste de mots en anglais\n",
    "et renvoie chacun des mots anglais avec leur traduction dans les deux langues."
   ]
  },
  {
   "cell_type": "code",
   "execution_count": null,
   "id": "be8647dd",
   "metadata": {},
   "outputs": [],
   "source": [
    "def get_austro_words(langue1, langue2, words):\n",
    "    \"\"\"\n",
    "    Reçoit un couple de langues (langue1, langue2) et une liste de mots (words)\n",
    "    Cherche dans la liste Swadesh des langues austronésiennes les traductions des mots\n",
    "    dans ces deux langues.\n",
    "    Renvoie un dictionnaire {'langue1': [w1, w2], 'langue2': [w1, w2]}\n",
    "    Liste vide si la langue n'est pas répertoriée dans la liste\n",
    "    \"\"\"\n",
    "    # votre code\n",
    "\n",
    "    \n",
    "assert get_austro_words('Malay', 'Malagasy', ['new', 'old', 'good']) == \\\n",
    "    {\n",
    "        'Malay':['baharu', 'lama', 'bagus, baik'],\n",
    "        'Malagasy':['vaovao', 'onta, hantitra', 'tsara']\n",
    "    }\n",
    "assert get_austro_words('Malay', 'Balinese', ['new', 'old', 'good']) == \\\n",
    "    {\n",
    "        'Malay':['baharu', 'lama', 'bagus, baik'],\n",
    "        'Balinese':[]\n",
    "    }"
   ]
  },
  {
   "cell_type": "markdown",
   "id": "fdf98be6",
   "metadata": {},
   "source": [
    "2\\. Pour chaque mot du Cebuano de la liste [Swadesh austronésienne](data/swadesh_light.csv), trouvez\n",
    "   les mots des autres langues qui ont les deux ou trois premiers caractères en commun.  \n",
    "   (optionnel si vous voulez jouer avec les expressions régulières) Si le mot commence par une\n",
    "   voyelle, elle pourra différer dans les autres langues. Ex: isa / usa seront considérées comme\n",
    "   similaires (i/u) parce qu'à part la première lettre voyelle elles sont similaires.\n",
    "\n",
    "3\\. **Pour les champion⋅nes** Sans rechercher de solution sur internet, essayez d'implémenter une\n",
    "   fonction qui calcule la distance de Levenshtein. (Vous pouvez chercher ce que c'est que la\n",
    "   distance de Levenshtein et l'algorithme en pseudo-code, mais n'allez pas chercher directement\n",
    "   d'implémentation en Python !)"
   ]
  }
 ],
 "metadata": {
  "jupytext": {
   "formats": "ipynb,md",
   "split_at_heading": true
  },
  "kernelspec": {
   "display_name": "Python 3 (ipykernel)",
   "language": "python",
   "name": "python3"
  },
  "language_info": {
   "codemirror_mode": {
    "name": "ipython",
    "version": 3
   },
   "file_extension": ".py",
   "mimetype": "text/x-python",
   "name": "python",
   "nbconvert_exporter": "python",
   "pygments_lexer": "ipython3",
   "version": "3.11.6"
  }
 },
 "nbformat": 4,
 "nbformat_minor": 5
}
